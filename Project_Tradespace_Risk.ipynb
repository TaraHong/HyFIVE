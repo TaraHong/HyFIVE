{
 "cells": [
  {
   "cell_type": "code",
   "execution_count": 2,
   "metadata": {},
   "outputs": [
    {
     "data": {
      "text/plain": [
       "Templates configuration\n",
       "-----------------------\n",
       "    Default template: 'plotly'\n",
       "    Available templates:\n",
       "        ['ggplot2', 'seaborn', 'simple_white', 'plotly',\n",
       "         'plotly_white', 'plotly_dark', 'presentation', 'xgridoff',\n",
       "         'ygridoff', 'gridon', 'none']"
      ]
     },
     "execution_count": 2,
     "metadata": {},
     "output_type": "execute_result"
    }
   ],
   "source": [
    "import plotly.express as px\n",
    "import plotly\n",
    "import pandas as pd\n",
    "import plotly.io as pio\n",
    "pio.templates\n"
   ]
  },
  {
   "cell_type": "code",
   "execution_count": 3,
   "metadata": {},
   "outputs": [
    {
     "data": {
      "text/html": [
       "<div>\n",
       "<style scoped>\n",
       "    .dataframe tbody tr th:only-of-type {\n",
       "        vertical-align: middle;\n",
       "    }\n",
       "\n",
       "    .dataframe tbody tr th {\n",
       "        vertical-align: top;\n",
       "    }\n",
       "\n",
       "    .dataframe thead th {\n",
       "        text-align: right;\n",
       "    }\n",
       "</style>\n",
       "<table border=\"1\" class=\"dataframe\">\n",
       "  <thead>\n",
       "    <tr style=\"text-align: right;\">\n",
       "      <th></th>\n",
       "      <th>Simulation</th>\n",
       "      <th>Before Likelihood</th>\n",
       "      <th>Before Impact</th>\n",
       "      <th>Before Risk</th>\n",
       "      <th>After Likelihood</th>\n",
       "      <th>After Impact</th>\n",
       "      <th>After Risk</th>\n",
       "      <th>Risk Mitigation</th>\n",
       "      <th>Cost</th>\n",
       "      <th>Duration</th>\n",
       "      <th>Duration (Years)</th>\n",
       "    </tr>\n",
       "  </thead>\n",
       "  <tbody>\n",
       "    <tr>\n",
       "      <th>0</th>\n",
       "      <td>OS16_1_3_10</td>\n",
       "      <td>9</td>\n",
       "      <td>9</td>\n",
       "      <td>18</td>\n",
       "      <td>9</td>\n",
       "      <td>9</td>\n",
       "      <td>18</td>\n",
       "      <td>Baseline (No Risk Mitigation)</td>\n",
       "      <td>28527996</td>\n",
       "      <td>1733.1</td>\n",
       "      <td>4.748219</td>\n",
       "    </tr>\n",
       "    <tr>\n",
       "      <th>1</th>\n",
       "      <td>OS17_1</td>\n",
       "      <td>7</td>\n",
       "      <td>8</td>\n",
       "      <td>15</td>\n",
       "      <td>6</td>\n",
       "      <td>7</td>\n",
       "      <td>13</td>\n",
       "      <td>Risk 1 (System Integration Risk)</td>\n",
       "      <td>28895839</td>\n",
       "      <td>1746.1</td>\n",
       "      <td>4.783836</td>\n",
       "    </tr>\n",
       "    <tr>\n",
       "      <th>2</th>\n",
       "      <td>OS17_1_1</td>\n",
       "      <td>7</td>\n",
       "      <td>8</td>\n",
       "      <td>15</td>\n",
       "      <td>6</td>\n",
       "      <td>8</td>\n",
       "      <td>14</td>\n",
       "      <td>Risk 1 (System Integration Risk)</td>\n",
       "      <td>29041320</td>\n",
       "      <td>1701.6</td>\n",
       "      <td>4.661918</td>\n",
       "    </tr>\n",
       "    <tr>\n",
       "      <th>3</th>\n",
       "      <td>OS17_1_2</td>\n",
       "      <td>7</td>\n",
       "      <td>8</td>\n",
       "      <td>15</td>\n",
       "      <td>4</td>\n",
       "      <td>7</td>\n",
       "      <td>11</td>\n",
       "      <td>Risk 1 (System Integration Risk)</td>\n",
       "      <td>30462718</td>\n",
       "      <td>1617.1</td>\n",
       "      <td>4.430411</td>\n",
       "    </tr>\n",
       "    <tr>\n",
       "      <th>4</th>\n",
       "      <td>OS17_1_3</td>\n",
       "      <td>7</td>\n",
       "      <td>8</td>\n",
       "      <td>15</td>\n",
       "      <td>6</td>\n",
       "      <td>7</td>\n",
       "      <td>13</td>\n",
       "      <td>Risk 1 (System Integration Risk)</td>\n",
       "      <td>30433112</td>\n",
       "      <td>1591.1</td>\n",
       "      <td>4.359178</td>\n",
       "    </tr>\n",
       "  </tbody>\n",
       "</table>\n",
       "</div>"
      ],
      "text/plain": [
       "    Simulation  Before Likelihood  Before Impact  Before Risk  \\\n",
       "0  OS16_1_3_10                  9              9           18   \n",
       "1       OS17_1                  7              8           15   \n",
       "2     OS17_1_1                  7              8           15   \n",
       "3     OS17_1_2                  7              8           15   \n",
       "4     OS17_1_3                  7              8           15   \n",
       "\n",
       "   After Likelihood  After Impact  After Risk  \\\n",
       "0                 9             9          18   \n",
       "1                 6             7          13   \n",
       "2                 6             8          14   \n",
       "3                 4             7          11   \n",
       "4                 6             7          13   \n",
       "\n",
       "                    Risk Mitigation      Cost  Duration  Duration (Years)  \n",
       "0     Baseline (No Risk Mitigation)  28527996    1733.1          4.748219  \n",
       "1  Risk 1 (System Integration Risk)  28895839    1746.1          4.783836  \n",
       "2  Risk 1 (System Integration Risk)  29041320    1701.6          4.661918  \n",
       "3  Risk 1 (System Integration Risk)  30462718    1617.1          4.430411  \n",
       "4  Risk 1 (System Integration Risk)  30433112    1591.1          4.359178  "
      ]
     },
     "execution_count": 3,
     "metadata": {},
     "output_type": "execute_result"
    }
   ],
   "source": [
    "df = pd.read_excel('OS17A_Risk_2.xlsx', sheet_name='Risk Matrix')\n",
    "df.head()\n"
   ]
  },
  {
   "cell_type": "code",
   "execution_count": 4,
   "metadata": {},
   "outputs": [
    {
     "data": {
      "application/vnd.plotly.v1+json": {
       "config": {
        "plotlyServerURL": "https://plot.ly"
       },
       "data": [
        {
         "hovertemplate": "<b>%{hovertext}</b><br><br>Risk Mitigation=Baseline (No Risk Mitigation)<br>Duration (Years)=%{x}<br>Cost=%{y}<br>After Risk=%{marker.size}<extra></extra>",
         "hovertext": [
          18
         ],
         "legendgroup": "Baseline (No Risk Mitigation)",
         "marker": {
          "color": "#636efa",
          "line": {
           "color": "DarkSlateGrey",
           "width": 2
          },
          "size": [
           18
          ],
          "sizemode": "area",
          "sizeref": 0.045,
          "symbol": "circle"
         },
         "mode": "markers",
         "name": "Baseline (No Risk Mitigation)",
         "orientation": "v",
         "showlegend": true,
         "textposition": "bottom center",
         "type": "scatter",
         "x": [
          4.748219178082191
         ],
         "xaxis": "x",
         "y": [
          28527996
         ],
         "yaxis": "y"
        },
        {
         "hovertemplate": "<b>%{hovertext}</b><br><br>Risk Mitigation=Risk 1 (System Integration Risk)<br>Duration (Years)=%{x}<br>Cost=%{y}<br>After Risk=%{marker.size}<extra></extra>",
         "hovertext": [
          13,
          14,
          11,
          13,
          10
         ],
         "legendgroup": "Risk 1 (System Integration Risk)",
         "marker": {
          "color": "#EF553B",
          "line": {
           "color": "DarkSlateGrey",
           "width": 2
          },
          "size": [
           13,
           14,
           11,
           13,
           10
          ],
          "sizemode": "area",
          "sizeref": 0.045,
          "symbol": "circle"
         },
         "mode": "markers",
         "name": "Risk 1 (System Integration Risk)",
         "orientation": "v",
         "showlegend": true,
         "textposition": "bottom center",
         "type": "scatter",
         "x": [
          4.783835616438356,
          4.661917808219178,
          4.430410958904109,
          4.3591780821917805,
          4.437808219178082
         ],
         "xaxis": "x",
         "y": [
          28895839,
          29041320,
          30462718,
          30433112,
          30759460
         ],
         "yaxis": "y"
        },
        {
         "hovertemplate": "<b>%{hovertext}</b><br><br>Risk Mitigation=Risk 2 (Volatility in Labor Costs)<br>Duration (Years)=%{x}<br>Cost=%{y}<br>After Risk=%{marker.size}<extra></extra>",
         "hovertext": [
          8,
          7,
          5
         ],
         "legendgroup": "Risk 2 (Volatility in Labor Costs)",
         "marker": {
          "color": "#00cc96",
          "line": {
           "color": "DarkSlateGrey",
           "width": 2
          },
          "size": [
           8,
           7,
           5
          ],
          "sizemode": "area",
          "sizeref": 0.045,
          "symbol": "circle"
         },
         "mode": "markers",
         "name": "Risk 2 (Volatility in Labor Costs)",
         "orientation": "v",
         "showlegend": true,
         "textposition": "bottom center",
         "type": "scatter",
         "x": [
          4.774794520547945,
          4.746027397260274,
          4.824109589041096
         ],
         "xaxis": "x",
         "y": [
          26445313,
          28743314,
          29150950
         ],
         "yaxis": "y"
        },
        {
         "hovertemplate": "<b>%{hovertext}</b><br><br>Risk Mitigation=Risk 3 (Labor Strike)<br>Duration (Years)=%{x}<br>Cost=%{y}<br>After Risk=%{marker.size}<extra></extra>",
         "hovertext": [
          6
         ],
         "legendgroup": "Risk 3 (Labor Strike)",
         "marker": {
          "color": "#ab63fa",
          "line": {
           "color": "DarkSlateGrey",
           "width": 2
          },
          "size": [
           6
          ],
          "sizemode": "area",
          "sizeref": 0.045,
          "symbol": "circle"
         },
         "mode": "markers",
         "name": "Risk 3 (Labor Strike)",
         "orientation": "v",
         "showlegend": true,
         "textposition": "bottom center",
         "type": "scatter",
         "x": [
          3.8734246575342466
         ],
         "xaxis": "x",
         "y": [
          29794043
         ],
         "yaxis": "y"
        },
        {
         "hovertemplate": "<b>%{hovertext}</b><br><br>Risk Mitigation=Risk 4 (Critial Design Review Rework)<br>Duration (Years)=%{x}<br>Cost=%{y}<br>After Risk=%{marker.size}<extra></extra>",
         "hovertext": [
          8
         ],
         "legendgroup": "Risk 4 (Critial Design Review Rework)",
         "marker": {
          "color": "#FFA15A",
          "line": {
           "color": "DarkSlateGrey",
           "width": 2
          },
          "size": [
           8
          ],
          "sizemode": "area",
          "sizeref": 0.045,
          "symbol": "circle"
         },
         "mode": "markers",
         "name": "Risk 4 (Critial Design Review Rework)",
         "orientation": "v",
         "showlegend": true,
         "textposition": "bottom center",
         "type": "scatter",
         "x": [
          5.06931506849315
         ],
         "xaxis": "x",
         "y": [
          29558726
         ],
         "yaxis": "y"
        },
        {
         "hovertemplate": "<b>%{hovertext}</b><br><br>Risk Mitigation=Risk 5 (Global Pandemic -Supply Chain Impacted)<br>Duration (Years)=%{x}<br>Cost=%{y}<br>After Risk=%{marker.size}<extra></extra>",
         "hovertext": [
          7,
          7,
          5
         ],
         "legendgroup": "Risk 5 (Global Pandemic -Supply Chain Impacted)",
         "marker": {
          "color": "#19d3f3",
          "line": {
           "color": "DarkSlateGrey",
           "width": 2
          },
          "size": [
           7,
           7,
           5
          ],
          "sizemode": "area",
          "sizeref": 0.045,
          "symbol": "circle"
         },
         "mode": "markers",
         "name": "Risk 5 (Global Pandemic -Supply Chain Impacted)",
         "orientation": "v",
         "showlegend": true,
         "textposition": "bottom center",
         "type": "scatter",
         "x": [
          4.6657534246575345,
          4.627397260273972,
          4.69041095890411
         ],
         "xaxis": "x",
         "y": [
          28455782,
          27844108,
          28929948
         ],
         "yaxis": "y"
        },
        {
         "hovertemplate": "<b>%{hovertext}</b><br><br>Risk Mitigation=Combined (1+3)<br>Duration (Years)=%{x}<br>Cost=%{y}<br>After Risk=%{marker.size}<extra></extra>",
         "hovertext": [
          4
         ],
         "legendgroup": "Combined (1+3)",
         "marker": {
          "color": "#FF6692",
          "line": {
           "color": "DarkSlateGrey",
           "width": 2
          },
          "size": [
           4
          ],
          "sizemode": "area",
          "sizeref": 0.045,
          "symbol": "circle"
         },
         "mode": "markers",
         "name": "Combined (1+3)",
         "orientation": "v",
         "showlegend": true,
         "textposition": "bottom center",
         "type": "scatter",
         "x": [
          3.249315068493151
         ],
         "xaxis": "x",
         "y": [
          32354303
         ],
         "yaxis": "y"
        },
        {
         "hovertemplate": "<b>%{hovertext}</b><br><br>Risk Mitigation=Combined (1+3+4)<br>Duration (Years)=%{x}<br>Cost=%{y}<br>After Risk=%{marker.size}<extra></extra>",
         "hovertext": [
          5
         ],
         "legendgroup": "Combined (1+3+4)",
         "marker": {
          "color": "#B6E880",
          "line": {
           "color": "DarkSlateGrey",
           "width": 2
          },
          "size": [
           5
          ],
          "sizemode": "area",
          "sizeref": 0.045,
          "symbol": "circle"
         },
         "mode": "markers",
         "name": "Combined (1+3+4)",
         "orientation": "v",
         "showlegend": true,
         "textposition": "bottom center",
         "type": "scatter",
         "x": [
          3.2843835616438355
         ],
         "xaxis": "x",
         "y": [
          32630501
         ],
         "yaxis": "y"
        },
        {
         "hovertemplate": "<b>%{hovertext}</b><br><br>Risk Mitigation=Risk 6 (System Failure due to unk unk)<br>Duration (Years)=%{x}<br>Cost=%{y}<br>After Risk=%{marker.size}<extra></extra>",
         "hovertext": [
          8
         ],
         "legendgroup": "Risk 6 (System Failure due to unk unk)",
         "marker": {
          "color": "#FF97FF",
          "line": {
           "color": "DarkSlateGrey",
           "width": 2
          },
          "size": [
           8
          ],
          "sizemode": "area",
          "sizeref": 0.045,
          "symbol": "circle"
         },
         "mode": "markers",
         "name": "Risk 6 (System Failure due to unk unk)",
         "orientation": "v",
         "showlegend": true,
         "textposition": "bottom center",
         "type": "scatter",
         "x": [
          4.830958904109589
         ],
         "xaxis": "x",
         "y": [
          30222076
         ],
         "yaxis": "y"
        },
        {
         "hovertemplate": "<b>%{hovertext}</b><br><br>Risk Mitigation=Risk 7 (Losing Market Share due to competitors)<br>Duration (Years)=%{x}<br>Cost=%{y}<br>After Risk=%{marker.size}<extra></extra>",
         "hovertext": [
          6
         ],
         "legendgroup": "Risk 7 (Losing Market Share due to competitors)",
         "marker": {
          "color": "#FECB52",
          "line": {
           "color": "DarkSlateGrey",
           "width": 2
          },
          "size": [
           6
          ],
          "sizemode": "area",
          "sizeref": 0.045,
          "symbol": "circle"
         },
         "mode": "markers",
         "name": "Risk 7 (Losing Market Share due to competitors)",
         "orientation": "v",
         "showlegend": true,
         "textposition": "bottom center",
         "type": "scatter",
         "x": [
          4.669041095890411
         ],
         "xaxis": "x",
         "y": [
          28149079
         ],
         "yaxis": "y"
        }
       ],
       "layout": {
        "annotations": [
         {
          "showarrow": false,
          "text": "Schedule Target (8 yrs)",
          "x": 8,
          "xanchor": "left",
          "xref": "x",
          "y": 1,
          "yanchor": "top",
          "yref": "y domain"
         },
         {
          "showarrow": false,
          "text": "Cost Target (USD 30MM)",
          "x": 1,
          "xanchor": "right",
          "xref": "x domain",
          "y": 30000000,
          "yanchor": "bottom",
          "yref": "y"
         }
        ],
        "legend": {
         "itemsizing": "constant",
         "title": {
          "text": "Risk Mitigation"
         },
         "tracegroupgap": 0
        },
        "margin": {
         "t": 60
        },
        "shapes": [
         {
          "line": {
           "color": "green",
           "dash": "dash",
           "width": 3
          },
          "type": "line",
          "x0": 8,
          "x1": 8,
          "xref": "x",
          "y0": 0,
          "y1": 1,
          "yref": "y domain"
         },
         {
          "line": {
           "color": "green",
           "dash": "dash",
           "width": 3
          },
          "type": "line",
          "x0": 0,
          "x1": 1,
          "xref": "x domain",
          "y0": 30000000,
          "y1": 30000000,
          "yref": "y"
         },
         {
          "fillcolor": "LightGreen",
          "line": {
           "color": "RoyalBlue",
           "width": 3
          },
          "opacity": 0.2,
          "type": "rect",
          "x0": 0,
          "x1": 8,
          "xref": "x",
          "y0": 25000000,
          "y1": 30000000,
          "yref": "y"
         }
        ],
        "template": {
         "data": {
          "bar": [
           {
            "error_x": {
             "color": "#2a3f5f"
            },
            "error_y": {
             "color": "#2a3f5f"
            },
            "marker": {
             "line": {
              "color": "#E5ECF6",
              "width": 0.5
             },
             "pattern": {
              "fillmode": "overlay",
              "size": 10,
              "solidity": 0.2
             }
            },
            "type": "bar"
           }
          ],
          "barpolar": [
           {
            "marker": {
             "line": {
              "color": "#E5ECF6",
              "width": 0.5
             },
             "pattern": {
              "fillmode": "overlay",
              "size": 10,
              "solidity": 0.2
             }
            },
            "type": "barpolar"
           }
          ],
          "carpet": [
           {
            "aaxis": {
             "endlinecolor": "#2a3f5f",
             "gridcolor": "white",
             "linecolor": "white",
             "minorgridcolor": "white",
             "startlinecolor": "#2a3f5f"
            },
            "baxis": {
             "endlinecolor": "#2a3f5f",
             "gridcolor": "white",
             "linecolor": "white",
             "minorgridcolor": "white",
             "startlinecolor": "#2a3f5f"
            },
            "type": "carpet"
           }
          ],
          "choropleth": [
           {
            "colorbar": {
             "outlinewidth": 0,
             "ticks": ""
            },
            "type": "choropleth"
           }
          ],
          "contour": [
           {
            "colorbar": {
             "outlinewidth": 0,
             "ticks": ""
            },
            "colorscale": [
             [
              0,
              "#0d0887"
             ],
             [
              0.1111111111111111,
              "#46039f"
             ],
             [
              0.2222222222222222,
              "#7201a8"
             ],
             [
              0.3333333333333333,
              "#9c179e"
             ],
             [
              0.4444444444444444,
              "#bd3786"
             ],
             [
              0.5555555555555556,
              "#d8576b"
             ],
             [
              0.6666666666666666,
              "#ed7953"
             ],
             [
              0.7777777777777778,
              "#fb9f3a"
             ],
             [
              0.8888888888888888,
              "#fdca26"
             ],
             [
              1,
              "#f0f921"
             ]
            ],
            "type": "contour"
           }
          ],
          "contourcarpet": [
           {
            "colorbar": {
             "outlinewidth": 0,
             "ticks": ""
            },
            "type": "contourcarpet"
           }
          ],
          "heatmap": [
           {
            "colorbar": {
             "outlinewidth": 0,
             "ticks": ""
            },
            "colorscale": [
             [
              0,
              "#0d0887"
             ],
             [
              0.1111111111111111,
              "#46039f"
             ],
             [
              0.2222222222222222,
              "#7201a8"
             ],
             [
              0.3333333333333333,
              "#9c179e"
             ],
             [
              0.4444444444444444,
              "#bd3786"
             ],
             [
              0.5555555555555556,
              "#d8576b"
             ],
             [
              0.6666666666666666,
              "#ed7953"
             ],
             [
              0.7777777777777778,
              "#fb9f3a"
             ],
             [
              0.8888888888888888,
              "#fdca26"
             ],
             [
              1,
              "#f0f921"
             ]
            ],
            "type": "heatmap"
           }
          ],
          "heatmapgl": [
           {
            "colorbar": {
             "outlinewidth": 0,
             "ticks": ""
            },
            "colorscale": [
             [
              0,
              "#0d0887"
             ],
             [
              0.1111111111111111,
              "#46039f"
             ],
             [
              0.2222222222222222,
              "#7201a8"
             ],
             [
              0.3333333333333333,
              "#9c179e"
             ],
             [
              0.4444444444444444,
              "#bd3786"
             ],
             [
              0.5555555555555556,
              "#d8576b"
             ],
             [
              0.6666666666666666,
              "#ed7953"
             ],
             [
              0.7777777777777778,
              "#fb9f3a"
             ],
             [
              0.8888888888888888,
              "#fdca26"
             ],
             [
              1,
              "#f0f921"
             ]
            ],
            "type": "heatmapgl"
           }
          ],
          "histogram": [
           {
            "marker": {
             "pattern": {
              "fillmode": "overlay",
              "size": 10,
              "solidity": 0.2
             }
            },
            "type": "histogram"
           }
          ],
          "histogram2d": [
           {
            "colorbar": {
             "outlinewidth": 0,
             "ticks": ""
            },
            "colorscale": [
             [
              0,
              "#0d0887"
             ],
             [
              0.1111111111111111,
              "#46039f"
             ],
             [
              0.2222222222222222,
              "#7201a8"
             ],
             [
              0.3333333333333333,
              "#9c179e"
             ],
             [
              0.4444444444444444,
              "#bd3786"
             ],
             [
              0.5555555555555556,
              "#d8576b"
             ],
             [
              0.6666666666666666,
              "#ed7953"
             ],
             [
              0.7777777777777778,
              "#fb9f3a"
             ],
             [
              0.8888888888888888,
              "#fdca26"
             ],
             [
              1,
              "#f0f921"
             ]
            ],
            "type": "histogram2d"
           }
          ],
          "histogram2dcontour": [
           {
            "colorbar": {
             "outlinewidth": 0,
             "ticks": ""
            },
            "colorscale": [
             [
              0,
              "#0d0887"
             ],
             [
              0.1111111111111111,
              "#46039f"
             ],
             [
              0.2222222222222222,
              "#7201a8"
             ],
             [
              0.3333333333333333,
              "#9c179e"
             ],
             [
              0.4444444444444444,
              "#bd3786"
             ],
             [
              0.5555555555555556,
              "#d8576b"
             ],
             [
              0.6666666666666666,
              "#ed7953"
             ],
             [
              0.7777777777777778,
              "#fb9f3a"
             ],
             [
              0.8888888888888888,
              "#fdca26"
             ],
             [
              1,
              "#f0f921"
             ]
            ],
            "type": "histogram2dcontour"
           }
          ],
          "mesh3d": [
           {
            "colorbar": {
             "outlinewidth": 0,
             "ticks": ""
            },
            "type": "mesh3d"
           }
          ],
          "parcoords": [
           {
            "line": {
             "colorbar": {
              "outlinewidth": 0,
              "ticks": ""
             }
            },
            "type": "parcoords"
           }
          ],
          "pie": [
           {
            "automargin": true,
            "type": "pie"
           }
          ],
          "scatter": [
           {
            "marker": {
             "colorbar": {
              "outlinewidth": 0,
              "ticks": ""
             }
            },
            "type": "scatter"
           }
          ],
          "scatter3d": [
           {
            "line": {
             "colorbar": {
              "outlinewidth": 0,
              "ticks": ""
             }
            },
            "marker": {
             "colorbar": {
              "outlinewidth": 0,
              "ticks": ""
             }
            },
            "type": "scatter3d"
           }
          ],
          "scattercarpet": [
           {
            "marker": {
             "colorbar": {
              "outlinewidth": 0,
              "ticks": ""
             }
            },
            "type": "scattercarpet"
           }
          ],
          "scattergeo": [
           {
            "marker": {
             "colorbar": {
              "outlinewidth": 0,
              "ticks": ""
             }
            },
            "type": "scattergeo"
           }
          ],
          "scattergl": [
           {
            "marker": {
             "colorbar": {
              "outlinewidth": 0,
              "ticks": ""
             }
            },
            "type": "scattergl"
           }
          ],
          "scattermapbox": [
           {
            "marker": {
             "colorbar": {
              "outlinewidth": 0,
              "ticks": ""
             }
            },
            "type": "scattermapbox"
           }
          ],
          "scatterpolar": [
           {
            "marker": {
             "colorbar": {
              "outlinewidth": 0,
              "ticks": ""
             }
            },
            "type": "scatterpolar"
           }
          ],
          "scatterpolargl": [
           {
            "marker": {
             "colorbar": {
              "outlinewidth": 0,
              "ticks": ""
             }
            },
            "type": "scatterpolargl"
           }
          ],
          "scatterternary": [
           {
            "marker": {
             "colorbar": {
              "outlinewidth": 0,
              "ticks": ""
             }
            },
            "type": "scatterternary"
           }
          ],
          "surface": [
           {
            "colorbar": {
             "outlinewidth": 0,
             "ticks": ""
            },
            "colorscale": [
             [
              0,
              "#0d0887"
             ],
             [
              0.1111111111111111,
              "#46039f"
             ],
             [
              0.2222222222222222,
              "#7201a8"
             ],
             [
              0.3333333333333333,
              "#9c179e"
             ],
             [
              0.4444444444444444,
              "#bd3786"
             ],
             [
              0.5555555555555556,
              "#d8576b"
             ],
             [
              0.6666666666666666,
              "#ed7953"
             ],
             [
              0.7777777777777778,
              "#fb9f3a"
             ],
             [
              0.8888888888888888,
              "#fdca26"
             ],
             [
              1,
              "#f0f921"
             ]
            ],
            "type": "surface"
           }
          ],
          "table": [
           {
            "cells": {
             "fill": {
              "color": "#EBF0F8"
             },
             "line": {
              "color": "white"
             }
            },
            "header": {
             "fill": {
              "color": "#C8D4E3"
             },
             "line": {
              "color": "white"
             }
            },
            "type": "table"
           }
          ]
         },
         "layout": {
          "annotationdefaults": {
           "arrowcolor": "#2a3f5f",
           "arrowhead": 0,
           "arrowwidth": 1
          },
          "autotypenumbers": "strict",
          "coloraxis": {
           "colorbar": {
            "outlinewidth": 0,
            "ticks": ""
           }
          },
          "colorscale": {
           "diverging": [
            [
             0,
             "#8e0152"
            ],
            [
             0.1,
             "#c51b7d"
            ],
            [
             0.2,
             "#de77ae"
            ],
            [
             0.3,
             "#f1b6da"
            ],
            [
             0.4,
             "#fde0ef"
            ],
            [
             0.5,
             "#f7f7f7"
            ],
            [
             0.6,
             "#e6f5d0"
            ],
            [
             0.7,
             "#b8e186"
            ],
            [
             0.8,
             "#7fbc41"
            ],
            [
             0.9,
             "#4d9221"
            ],
            [
             1,
             "#276419"
            ]
           ],
           "sequential": [
            [
             0,
             "#0d0887"
            ],
            [
             0.1111111111111111,
             "#46039f"
            ],
            [
             0.2222222222222222,
             "#7201a8"
            ],
            [
             0.3333333333333333,
             "#9c179e"
            ],
            [
             0.4444444444444444,
             "#bd3786"
            ],
            [
             0.5555555555555556,
             "#d8576b"
            ],
            [
             0.6666666666666666,
             "#ed7953"
            ],
            [
             0.7777777777777778,
             "#fb9f3a"
            ],
            [
             0.8888888888888888,
             "#fdca26"
            ],
            [
             1,
             "#f0f921"
            ]
           ],
           "sequentialminus": [
            [
             0,
             "#0d0887"
            ],
            [
             0.1111111111111111,
             "#46039f"
            ],
            [
             0.2222222222222222,
             "#7201a8"
            ],
            [
             0.3333333333333333,
             "#9c179e"
            ],
            [
             0.4444444444444444,
             "#bd3786"
            ],
            [
             0.5555555555555556,
             "#d8576b"
            ],
            [
             0.6666666666666666,
             "#ed7953"
            ],
            [
             0.7777777777777778,
             "#fb9f3a"
            ],
            [
             0.8888888888888888,
             "#fdca26"
            ],
            [
             1,
             "#f0f921"
            ]
           ]
          },
          "colorway": [
           "#636efa",
           "#EF553B",
           "#00cc96",
           "#ab63fa",
           "#FFA15A",
           "#19d3f3",
           "#FF6692",
           "#B6E880",
           "#FF97FF",
           "#FECB52"
          ],
          "font": {
           "color": "#2a3f5f"
          },
          "geo": {
           "bgcolor": "white",
           "lakecolor": "white",
           "landcolor": "#E5ECF6",
           "showlakes": true,
           "showland": true,
           "subunitcolor": "white"
          },
          "hoverlabel": {
           "align": "left"
          },
          "hovermode": "closest",
          "mapbox": {
           "style": "light"
          },
          "paper_bgcolor": "white",
          "plot_bgcolor": "#E5ECF6",
          "polar": {
           "angularaxis": {
            "gridcolor": "white",
            "linecolor": "white",
            "ticks": ""
           },
           "bgcolor": "#E5ECF6",
           "radialaxis": {
            "gridcolor": "white",
            "linecolor": "white",
            "ticks": ""
           }
          },
          "scene": {
           "xaxis": {
            "backgroundcolor": "#E5ECF6",
            "gridcolor": "white",
            "gridwidth": 2,
            "linecolor": "white",
            "showbackground": true,
            "ticks": "",
            "zerolinecolor": "white"
           },
           "yaxis": {
            "backgroundcolor": "#E5ECF6",
            "gridcolor": "white",
            "gridwidth": 2,
            "linecolor": "white",
            "showbackground": true,
            "ticks": "",
            "zerolinecolor": "white"
           },
           "zaxis": {
            "backgroundcolor": "#E5ECF6",
            "gridcolor": "white",
            "gridwidth": 2,
            "linecolor": "white",
            "showbackground": true,
            "ticks": "",
            "zerolinecolor": "white"
           }
          },
          "shapedefaults": {
           "line": {
            "color": "#2a3f5f"
           }
          },
          "ternary": {
           "aaxis": {
            "gridcolor": "white",
            "linecolor": "white",
            "ticks": ""
           },
           "baxis": {
            "gridcolor": "white",
            "linecolor": "white",
            "ticks": ""
           },
           "bgcolor": "#E5ECF6",
           "caxis": {
            "gridcolor": "white",
            "linecolor": "white",
            "ticks": ""
           }
          },
          "title": {
           "x": 0.05
          },
          "xaxis": {
           "automargin": true,
           "gridcolor": "white",
           "linecolor": "white",
           "ticks": "",
           "title": {
            "standoff": 15
           },
           "zerolinecolor": "white",
           "zerolinewidth": 2
          },
          "yaxis": {
           "automargin": true,
           "gridcolor": "white",
           "linecolor": "white",
           "ticks": "",
           "title": {
            "standoff": 15
           },
           "zerolinecolor": "white",
           "zerolinewidth": 2
          }
         }
        },
        "xaxis": {
         "anchor": "y",
         "domain": [
          0,
          1
         ],
         "range": [
          3,
          9
         ],
         "title": {
          "text": "Duration (Years)"
         }
        },
        "yaxis": {
         "anchor": "x",
         "domain": [
          0,
          1
         ],
         "title": {
          "text": "Cost"
         }
        }
       }
      }
     },
     "metadata": {},
     "output_type": "display_data"
    }
   ],
   "source": [
    "fig = px.scatter(df, x=\"Duration (Years)\", y=\"Cost\", color = 'Risk Mitigation', template = 'plotly', hover_name = 'After Risk', size = 'After Risk',range_x=[3, 9])\n",
    "fig.add_vline(x=8, line_width=3, line_dash=\"dash\", line_color=\"green\",  annotation_text=\"Schedule Target (8 yrs)\" )\n",
    "fig.add_hline(y=30000000, line_width=3, line_dash=\"dash\", line_color=\"green\",  annotation_text=\"Cost Target (USD 30MM)\")\n",
    "#fig.add_hrect(y0=0, y1=30000000, line_width=0, fillcolor=\"red\", opacity=0.2)\n",
    "fig.add_shape(type=\"rect\",\n",
    "    xref=\"x\", yref=\"y\",\n",
    "    x0=0, y0=25000000,\n",
    "    x1=8, y1=30000000,\n",
    "    line=dict(\n",
    "        color=\"RoyalBlue\",\n",
    "        width=3,\n",
    "    ),\n",
    "    fillcolor=\"LightGreen\",\n",
    "    opacity = 0.2\n",
    ")\n",
    "\n",
    "fig.update_traces(marker=dict(\n",
    "                              line=dict(width=2,\n",
    "                                        color='DarkSlateGrey')),\n",
    "                  selector=dict(mode='markers'))\n",
    "#fig.update_traces(marker=dict(size=df['After Risk']))\n",
    "fig.update_traces(textposition='bottom center')\n",
    "\n",
    "fig.show()\n",
    "fig.write_html(\"Project_Tradespace_OS17_target.html\")\n"
   ]
  },
  {
   "cell_type": "code",
   "execution_count": 5,
   "metadata": {},
   "outputs": [
    {
     "data": {
      "image/png": "[encoded data removed]",
      "text/plain": [
       "<Figure size 432x288 with 82 Axes>"
      ]
     },
     "metadata": {},
     "output_type": "display_data"
    }
   ],
   "source": [
    "#My Failed attempt at creating a risk matrix using matplotlib - Ignore\n",
    "import matplotlib.pyplot as plt\n",
    "import numpy as np\n",
    "import pandas as pd\n",
    "\n",
    "\n",
    "fig = plt.figure()\n",
    "plt.xlim((0, 11))\n",
    "plt.ylim((0, 11))\n",
    "\n",
    "\n",
    "\n",
    "\n",
    "\n",
    "plt.subplots_adjust(wspace=0, hspace=0)\n",
    "plt.xticks([])\n",
    "plt.yticks([])\n",
    "plt.xlim(0, 10)\n",
    "plt.ylim(0, 10)\n",
    "plt.xlabel('Effect')\n",
    "plt.ylabel('Likelihood')\n",
    "plt.title('Risk Matrix Plot')\n",
    "\n",
    "#This example is for a 5 * 5 matrix\n",
    "nrows=9\n",
    "ncols=9\n",
    "axes = [fig.add_subplot(nrows, ncols, r * ncols + c + 1) for r in range(0, nrows) for c in range(0, ncols) ]\n",
    "\n",
    "# remove the x and y ticks\n",
    "for ax in axes:\n",
    "    ax.set_xticks([])\n",
    "    ax.set_yticks([])\n",
    "    ax.set_xlim(0,10)\n",
    "    ax.set_ylim(0,10)\n",
    "\n",
    "#Add background colors\n",
    "#This has been done manually for more fine-grained control\n",
    "#Run the loop below to identify the indice of the axes\n",
    "\n",
    "#Identify the index of the axes\n",
    "#for i in range(len(axes)):\n",
    "#    axes[i].text(0,0, i)\n",
    "\n",
    "green = [27,28,29,36,37,38,45,46,47,54,55,56,63,64,65,72,73,74,57,58,59,66,67,68,75,76,77] #Green boxes\n",
    "yellow = [0,1,2,9,10,11,18,19,20,30,31,32,39,40,41,48,49,50,60,61,62,69,70,71,78,79,80]#yellow boxes\n",
    "#orange = [1 , 2, 7, 12, 13, 18, 19, 24] # orange boxes\n",
    "red = [3,4,5,6,7,8,12,13,14,15,16,17,21,22,23,24,25,26,33,34,35,42,43,44,51,52,53] #red boxes\n",
    "\n",
    "for _ in green:\n",
    "    axes[_].set_facecolor('green')\n",
    "\n",
    "for _ in yellow:\n",
    "    axes[_].set_facecolor('yellow')\n",
    "\n",
    "# for _ in orange:\n",
    "#     axes[_].set_facecolor('orange')\n",
    "\n",
    "for _ in red:\n",
    "    axes[_].set_facecolor('red')\n",
    "\n",
    "\n",
    "\n",
    "\n",
    "plt.show()"
   ]
  },
  {
   "cell_type": "code",
   "execution_count": null,
   "metadata": {},
   "outputs": [],
   "source": []
  }
 ],
 "metadata": {
  "interpreter": {
   "hash": "ff912422caac99bb4228ea6188bfaf2002c35057a955dc67fe91ef343d5472ac"
  },
  "kernelspec": {
   "display_name": "Python 3.10.2 64-bit",
   "language": "python",
   "name": "python3"
  },
  "language_info": {
   "codemirror_mode": {
    "name": "ipython",
    "version": 3
   },
   "file_extension": ".py",
   "mimetype": "text/x-python",
   "name": "python",
   "nbconvert_exporter": "python",
   "pygments_lexer": "ipython3",
   "version": "3.10.2"
  },
  "orig_nbformat": 4
 },
 "nbformat": 4,
 "nbformat_minor": 2
}
